{
 "cells": [
  {
   "cell_type": "markdown",
   "id": "58875e7a",
   "metadata": {},
   "source": [
    "# Analysis"
   ]
  },
  {
   "cell_type": "code",
   "execution_count": 7,
   "id": "c28b9fd7",
   "metadata": {},
   "outputs": [
    {
     "name": "stdout",
     "output_type": "stream",
     "text": [
      "['Damages not recorded', 100000000.0, 'Damages not recorded', 40000000.0, 27900000.0, 5000000.0, 'Damages not recorded', 306000000.0, 2000000.0, 65800000.0, 326000000.0, 60300000.0, 208000000.0, 1420000000.0, 25400000.0, 'Damages not recorded', 1540000000.0, 1240000000.0, 7100000000.0, 10000000000.0, 26500000000.0, 6200000000.0, 5370000000.0, 23300000000.0, 1010000000.0, 125000000000.0, 12000000000.0, 29400000000.0, 1760000000.0, 720000000.0, 15100000000.0, 64800000000.0, 91600000000.0, 25100000000.0]\n"
     ]
    }
   ],
   "source": [
    "# List of damages (USD($)) caused by hurricanes\n",
    "damages = ['Damages not recorded', '100M', 'Damages not recorded', '40M',\n",
    "          '27.9M', '5M', 'Damages not recorded', '306M', '2M', '65.8M',\n",
    "          '326M', '60.3M', '208M', '1.42B', '25.4M', 'Damages not recorded',\n",
    "          '1.54B', '1.24B', '7.1B', '10B', '26.5B', '6.2B', '5.37B', '23.3B',\n",
    "          '1.01B', '125B', '12B', '29.4B', '1.76B', '720M', '15.1B', '64.8B',\n",
    "          '91.6B', '25.1B']\n",
    "\n",
    "# Update the recorded damages in the list\n",
    "def convert_damages_data(damages):\n",
    "\n",
    "    # Dictionary for converting damage value suffixes to float values\n",
    "    conversion = {\"M\": 1000000,\"B\": 1000000000}\n",
    "    \n",
    "    # Create an empty list to store updated damage values\n",
    "    updated_damages = list()\n",
    "    \n",
    "    # Loop through the damages list and update the damages values as necessary\n",
    "    for damage in damages:\n",
    "        if damage == \"Damages not recorded\":\n",
    "            # If the damage is not recorded, append it to the updated damages list as is\n",
    "            updated_damages.append(damage)\n",
    "        elif damage.find('M') != -1:\n",
    "            # If the damage is in millions, convert it to a float value and append to updated damages list\n",
    "            updated_damages.append(float(damage[0:damage.find('M')])*conversion[\"M\"])\n",
    "        elif damage.find('B') != -1:\n",
    "            # If the damage is in billions, convert it to a float value and append to updated damages list\n",
    "            updated_damages.append(float(damage[0:damage.find('B')])*conversion[\"B\"])\n",
    "    \n",
    "    # Return the updated damages list\n",
    "    return updated_damages\n",
    "\n",
    "# Test the function by updating the damages list and printing the result\n",
    "updated_damages = convert_damages_data(damages)\n",
    "print(updated_damages)"
   ]
  },
  {
   "cell_type": "code",
   "execution_count": 8,
   "id": "641aa113",
   "metadata": {},
   "outputs": [
    {
     "name": "stdout",
     "output_type": "stream",
     "text": [
      "{'Cuba I': {'Name': 'Cuba I', 'Month': 'October', 'Year': 1924, 'Max Sustained Wind': 165, 'Areas Affected': ['Central America', 'Mexico', 'Cuba', 'Florida', 'The Bahamas'], 'Damage': 'Damages not recorded', 'Deaths': 90}, 'San Felipe II Okeechobee': {'Name': 'San Felipe II Okeechobee', 'Month': 'September', 'Year': 1928, 'Max Sustained Wind': 160, 'Areas Affected': ['Lesser Antilles', 'The Bahamas', 'United States East Coast', 'Atlantic Canada'], 'Damage': 100000000.0, 'Deaths': 4000}, 'Bahamas': {'Name': 'Bahamas', 'Month': 'September', 'Year': 1932, 'Max Sustained Wind': 160, 'Areas Affected': ['The Bahamas', 'Northeastern United States'], 'Damage': 'Damages not recorded', 'Deaths': 16}, 'Cuba II': {'Name': 'Cuba II', 'Month': 'November', 'Year': 1932, 'Max Sustained Wind': 175, 'Areas Affected': ['Lesser Antilles', 'Jamaica', 'Cayman Islands', 'Cuba', 'The Bahamas', 'Bermuda'], 'Damage': 40000000.0, 'Deaths': 3103}, 'CubaBrownsville': {'Name': 'CubaBrownsville', 'Month': 'August', 'Year': 1933, 'Max Sustained Wind': 160, 'Areas Affected': ['The Bahamas', 'Cuba', 'Florida', 'Texas', 'Tamaulipas'], 'Damage': 27900000.0, 'Deaths': 179}, 'Tampico': {'Name': 'Tampico', 'Month': 'September', 'Year': 1933, 'Max Sustained Wind': 160, 'Areas Affected': ['Jamaica', 'Yucatn Peninsula'], 'Damage': 5000000.0, 'Deaths': 184}, 'Labor Day': {'Name': 'Labor Day', 'Month': 'September', 'Year': 1935, 'Max Sustained Wind': 185, 'Areas Affected': ['The Bahamas', 'Florida', 'Georgia', 'The Carolinas', 'Virginia'], 'Damage': 'Damages not recorded', 'Deaths': 408}, 'New England': {'Name': 'New England', 'Month': 'September', 'Year': 1938, 'Max Sustained Wind': 160, 'Areas Affected': ['Southeastern United States', 'Northeastern United States', 'Southwestern Quebec'], 'Damage': 306000000.0, 'Deaths': 682}, 'Carol': {'Name': 'Carol', 'Month': 'September', 'Year': 1953, 'Max Sustained Wind': 160, 'Areas Affected': ['Bermuda', 'New England', 'Atlantic Canada'], 'Damage': 2000000.0, 'Deaths': 5}, 'Janet': {'Name': 'Janet', 'Month': 'September', 'Year': 1955, 'Max Sustained Wind': 175, 'Areas Affected': ['Lesser Antilles', 'Central America'], 'Damage': 65800000.0, 'Deaths': 1023}, 'Carla': {'Name': 'Carla', 'Month': 'September', 'Year': 1961, 'Max Sustained Wind': 175, 'Areas Affected': ['Texas', 'Louisiana', 'Midwestern United States'], 'Damage': 326000000.0, 'Deaths': 43}, 'Hattie': {'Name': 'Hattie', 'Month': 'October', 'Year': 1961, 'Max Sustained Wind': 160, 'Areas Affected': ['Central America'], 'Damage': 60300000.0, 'Deaths': 319}, 'Beulah': {'Name': 'Beulah', 'Month': 'September', 'Year': 1967, 'Max Sustained Wind': 160, 'Areas Affected': ['The Caribbean', 'Mexico', 'Texas'], 'Damage': 208000000.0, 'Deaths': 688}, 'Camille': {'Name': 'Camille', 'Month': 'August', 'Year': 1969, 'Max Sustained Wind': 175, 'Areas Affected': ['Cuba', 'United States Gulf Coast'], 'Damage': 1420000000.0, 'Deaths': 259}, 'Edith': {'Name': 'Edith', 'Month': 'September', 'Year': 1971, 'Max Sustained Wind': 160, 'Areas Affected': ['The Caribbean', 'Central America', 'Mexico', 'United States Gulf Coast'], 'Damage': 25400000.0, 'Deaths': 37}, 'Anita': {'Name': 'Anita', 'Month': 'September', 'Year': 1977, 'Max Sustained Wind': 175, 'Areas Affected': ['Mexico'], 'Damage': 'Damages not recorded', 'Deaths': 11}, 'David': {'Name': 'David', 'Month': 'August', 'Year': 1979, 'Max Sustained Wind': 175, 'Areas Affected': ['The Caribbean', 'United States East coast'], 'Damage': 1540000000.0, 'Deaths': 2068}, 'Allen': {'Name': 'Allen', 'Month': 'August', 'Year': 1980, 'Max Sustained Wind': 190, 'Areas Affected': ['The Caribbean', 'Yucatn Peninsula', 'Mexico', 'South Texas'], 'Damage': 1240000000.0, 'Deaths': 269}, 'Gilbert': {'Name': 'Gilbert', 'Month': 'September', 'Year': 1988, 'Max Sustained Wind': 185, 'Areas Affected': ['Jamaica', 'Venezuela', 'Central America', 'Hispaniola', 'Mexico'], 'Damage': 7100000000.0, 'Deaths': 318}, 'Hugo': {'Name': 'Hugo', 'Month': 'September', 'Year': 1989, 'Max Sustained Wind': 160, 'Areas Affected': ['The Caribbean', 'United States East Coast'], 'Damage': 10000000000.0, 'Deaths': 107}, 'Andrew': {'Name': 'Andrew', 'Month': 'August', 'Year': 1992, 'Max Sustained Wind': 175, 'Areas Affected': ['The Bahamas', 'Florida', 'United States Gulf Coast'], 'Damage': 26500000000.0, 'Deaths': 65}, 'Mitch': {'Name': 'Mitch', 'Month': 'October', 'Year': 1998, 'Max Sustained Wind': 180, 'Areas Affected': ['Central America', 'Yucatn Peninsula', 'South Florida'], 'Damage': 6200000000.0, 'Deaths': 19325}, 'Isabel': {'Name': 'Isabel', 'Month': 'September', 'Year': 2003, 'Max Sustained Wind': 165, 'Areas Affected': ['Greater Antilles', 'Bahamas', 'Eastern United States', 'Ontario'], 'Damage': 5370000000.0, 'Deaths': 51}, 'Ivan': {'Name': 'Ivan', 'Month': 'September', 'Year': 2004, 'Max Sustained Wind': 165, 'Areas Affected': ['The Caribbean', 'Venezuela', 'United States Gulf Coast'], 'Damage': 23300000000.0, 'Deaths': 124}, 'Emily': {'Name': 'Emily', 'Month': 'July', 'Year': 2005, 'Max Sustained Wind': 160, 'Areas Affected': ['Windward Islands', 'Jamaica', 'Mexico', 'Texas'], 'Damage': 1010000000.0, 'Deaths': 17}, 'Katrina': {'Name': 'Katrina', 'Month': 'August', 'Year': 2005, 'Max Sustained Wind': 175, 'Areas Affected': ['Bahamas', 'United States Gulf Coast'], 'Damage': 125000000000.0, 'Deaths': 1836}, 'Rita': {'Name': 'Rita', 'Month': 'September', 'Year': 2005, 'Max Sustained Wind': 180, 'Areas Affected': ['Cuba', 'United States Gulf Coast'], 'Damage': 12000000000.0, 'Deaths': 125}, 'Wilma': {'Name': 'Wilma', 'Month': 'October', 'Year': 2005, 'Max Sustained Wind': 185, 'Areas Affected': ['Greater Antilles', 'Central America', 'Florida'], 'Damage': 29400000000.0, 'Deaths': 87}, 'Dean': {'Name': 'Dean', 'Month': 'August', 'Year': 2007, 'Max Sustained Wind': 175, 'Areas Affected': ['The Caribbean', 'Central America'], 'Damage': 1760000000.0, 'Deaths': 45}, 'Felix': {'Name': 'Felix', 'Month': 'September', 'Year': 2007, 'Max Sustained Wind': 175, 'Areas Affected': ['Nicaragua', 'Honduras'], 'Damage': 720000000.0, 'Deaths': 133}, 'Matthew': {'Name': 'Matthew', 'Month': 'October', 'Year': 2016, 'Max Sustained Wind': 165, 'Areas Affected': ['Antilles', 'Venezuela', 'Colombia', 'United States East Coast', 'Atlantic Canada'], 'Damage': 15100000000.0, 'Deaths': 603}, 'Irma': {'Name': 'Irma', 'Month': 'September', 'Year': 2017, 'Max Sustained Wind': 180, 'Areas Affected': ['Cape Verde', 'The Caribbean', 'British Virgin Islands', 'U.S. Virgin Islands', 'Cuba', 'Florida'], 'Damage': 64800000000.0, 'Deaths': 138}, 'Maria': {'Name': 'Maria', 'Month': 'September', 'Year': 2017, 'Max Sustained Wind': 175, 'Areas Affected': ['Lesser Antilles', 'Virgin Islands', 'Puerto Rico', 'Dominican Republic', 'Turks and Caicos Islands'], 'Damage': 91600000000.0, 'Deaths': 3057}, 'Michael': {'Name': 'Michael', 'Month': 'October', 'Year': 2018, 'Max Sustained Wind': 160, 'Areas Affected': ['Central America', 'United States Gulf Coast (especially Florida Panhandle)'], 'Damage': 25100000000.0, 'Deaths': 74}}\n"
     ]
    }
   ],
   "source": [
    "# names of hurricanes\n",
    "names = ['Cuba I', 'San Felipe II Okeechobee', 'Bahamas', 'Cuba II', 'CubaBrownsville', 'Tampico', 'Labor Day', 'New England', 'Carol', 'Janet', 'Carla', 'Hattie', 'Beulah', 'Camille', 'Edith', 'Anita', 'David', 'Allen', 'Gilbert', 'Hugo', 'Andrew', 'Mitch', 'Isabel', 'Ivan', 'Emily', 'Katrina', 'Rita', 'Wilma', 'Dean', 'Felix', 'Matthew', 'Irma', 'Maria', 'Michael']\n",
    "\n",
    "# months of hurricanes\n",
    "months = ['October', 'September', 'September', 'November', 'August', 'September', 'September', 'September', 'September', 'September', 'September', 'October', 'September', 'August', 'September', 'September', 'August', 'August', 'September', 'September', 'August', 'October', 'September', 'September', 'July', 'August', 'September', 'October', 'August', 'September', 'October', 'September', 'September', 'October']\n",
    "\n",
    "# years of hurricanes\n",
    "years = [1924, 1928, 1932, 1932, 1933, 1933, 1935, 1938, 1953, 1955, 1961, 1961, 1967, 1969, 1971, 1977, 1979, 1980, 1988, 1989, 1992, 1998, 2003, 2004, 2005, 2005, 2005, 2005, 2007, 2007, 2016, 2017, 2017, 2018]\n",
    "\n",
    "# maximum sustained winds (mph) of hurricanes\n",
    "max_sustained_winds = [165, 160, 160, 175, 160, 160, 185, 160, 160, 175, 175, 160, 160, 175, 160, 175, 175, 190, 185, 160, 175, 180, 165, 165, 160, 175, 180, 185, 175, 175, 165, 180, 175, 160]\n",
    "\n",
    "# areas affected by each hurricane\n",
    "areas_affected = [['Central America', 'Mexico', 'Cuba', 'Florida', 'The Bahamas'], ['Lesser Antilles', 'The Bahamas', 'United States East Coast', 'Atlantic Canada'], ['The Bahamas', 'Northeastern United States'], ['Lesser Antilles', 'Jamaica', 'Cayman Islands', 'Cuba', 'The Bahamas', 'Bermuda'], ['The Bahamas', 'Cuba', 'Florida', 'Texas', 'Tamaulipas'], ['Jamaica', 'Yucatn Peninsula'], ['The Bahamas', 'Florida', 'Georgia', 'The Carolinas', 'Virginia'], ['Southeastern United States', 'Northeastern United States', 'Southwestern Quebec'], ['Bermuda', 'New England', 'Atlantic Canada'], ['Lesser Antilles', 'Central America'], ['Texas', 'Louisiana', 'Midwestern United States'], ['Central America'], ['The Caribbean', 'Mexico', 'Texas'], ['Cuba', 'United States Gulf Coast'], ['The Caribbean', 'Central America', 'Mexico', 'United States Gulf Coast'], ['Mexico'], ['The Caribbean', 'United States East coast'], ['The Caribbean', 'Yucatn Peninsula', 'Mexico', 'South Texas'], ['Jamaica', 'Venezuela', 'Central America', 'Hispaniola', 'Mexico'], ['The Caribbean', 'United States East Coast'], ['The Bahamas', 'Florida', 'United States Gulf Coast'], ['Central America', 'Yucatn Peninsula', 'South Florida'], ['Greater Antilles', 'Bahamas', 'Eastern United States', 'Ontario'], ['The Caribbean', 'Venezuela', 'United States Gulf Coast'], ['Windward Islands', 'Jamaica', 'Mexico', 'Texas'], ['Bahamas', 'United States Gulf Coast'], ['Cuba', 'United States Gulf Coast'], ['Greater Antilles', 'Central America', 'Florida'], ['The Caribbean', 'Central America'], ['Nicaragua', 'Honduras'], ['Antilles', 'Venezuela', 'Colombia', 'United States East Coast', 'Atlantic Canada'], ['Cape Verde', 'The Caribbean', 'British Virgin Islands', 'U.S. Virgin Islands', 'Cuba', 'Florida'], ['Lesser Antilles', 'Virgin Islands', 'Puerto Rico', 'Dominican Republic', 'Turks and Caicos Islands'], ['Central America', 'United States Gulf Coast (especially Florida Panhandle)']]\n",
    "\n",
    "# damages (USD($)) of hurricanes\n",
    "damages = ['Damages not recorded', '100M', 'Damages not recorded', '40M', '27.9M', '5M', 'Damages not recorded', '306M', '2M', '65.8M', '326M', '60.3M', '208M', '1.42B', '25.4M', 'Damages not recorded', '1.54B', '1.24B', '7.1B', '10B', '26.5B', '6.2B', '5.37B', '23.3B', '1.01B', '125B', '12B', '29.4B', '1.76B', '720M', '15.1B', '64.8B', '91.6B', '25.1B']\n",
    "\n",
    "# deaths for each hurricane\n",
    "deaths = [90,4000,16,3103,179,184,408,682,5,1023,43,319,688,259,37,11,2068,269,318,107,65,19325,51,124,17,1836,125,87,45,133,603,138,3057,74]\n",
    "\n",
    "\n",
    "# create a dictionary made out of the lists\n",
    "def create_dictionary(names, months, years, max_sustained_winds, areas_affected, updated_damages, deaths):\n",
    "    # build a dictionary of hurricanes with hurricane name as the key and a dictionary of hurricane data as the value\n",
    "    hurricanes = dict()\n",
    "    num_hurricanes = len(names)\n",
    "    for i in range(num_hurricanes):\n",
    "        hurricanes[names[i]] = {\"Name\": names[i],\n",
    "                              \"Month\": months[i],\n",
    "                              \"Year\": years[i],\n",
    "                              \"Max Sustained Wind\": max_sustained_winds[i],\n",
    "                              \"Areas Affected\": areas_affected[i],\n",
    "                              \"Damage\": updated_damages[i],\n",
    "                              \"Deaths\": deaths[i]}\n",
    "    return hurricanes\n",
    "\n",
    "# create hurricanes dictionary\n",
    "hurricanes = create_dictionary(names, months, years, max_sustained_winds, areas_affected, updated_damages, deaths)\n",
    "print(hurricanes)\n"
   ]
  },
  {
   "cell_type": "code",
   "execution_count": 23,
   "id": "31b33031",
   "metadata": {},
   "outputs": [
    {
     "name": "stdout",
     "output_type": "stream",
     "text": [
      "[{'Name': 'Michael', 'Month': 'October', 'Year': 2018, 'Max Sustained Wind': 160, 'Areas Affected': ['Central America', 'United States Gulf Coast (especially Florida Panhandle)'], 'Damage': 25100000000.0, 'Deaths': 74}]\n"
     ]
    }
   ],
   "source": [
    "# Organizing hurricanes by year\n",
    "def create_year_dictionary(hurricanes):\n",
    "    \"\"\"\n",
    "    Given a dictionary of hurricanes, create a new dictionary with the year of each hurricane as the key and\n",
    "    a list of hurricanes for that year as the value.\n",
    "\n",
    "    :param hurricanes: a dictionary with hurricane names as keys and dictionaries of hurricane attributes as values\n",
    "    :return: a dictionary with hurricane years as keys and lists of hurricanes for each year as values\n",
    "    \"\"\"\n",
    "    hurricanes_by_year = dict()\n",
    "    for cane in hurricanes:\n",
    "        current_year = hurricanes[cane]['Year']\n",
    "        current_cane = hurricanes[cane]\n",
    "        if current_year not in hurricanes_by_year:\n",
    "            hurricanes_by_year[current_year] = [current_cane]\n",
    "        else:\n",
    "            hurricanes_by_year[current_year].append(current_cane)\n",
    "    return hurricanes_by_year\n",
    "\n",
    "# Example usage: create a new dictionary of hurricanes organized by year and print the list of hurricanes for 2018\n",
    "hurricanes_by_year = create_year_dictionary(hurricanes)\n",
    "print(hurricanes_by_year[2018])\n"
   ]
  },
  {
   "cell_type": "code",
   "execution_count": 22,
   "id": "c2762d92",
   "metadata": {},
   "outputs": [
    {
     "name": "stdout",
     "output_type": "stream",
     "text": [
      "{'Central America': 9, 'Mexico': 7, 'Cuba': 6, 'Florida': 6, 'The Bahamas': 7, 'Lesser Antilles': 4, 'United States East Coast': 3, 'Atlantic Canada': 3, 'Northeastern United States': 2, 'Jamaica': 4, 'Cayman Islands': 1, 'Bermuda': 2, 'Texas': 4, 'Tamaulipas': 1, 'Yucatn Peninsula': 3, 'Georgia': 1, 'The Carolinas': 1, 'Virginia': 1, 'Southeastern United States': 1, 'Southwestern Quebec': 1, 'New England': 1, 'Louisiana': 1, 'Midwestern United States': 1, 'The Caribbean': 8, 'United States Gulf Coast': 6, 'United States East coast': 1, 'South Texas': 1, 'Venezuela': 3, 'Hispaniola': 1, 'South Florida': 1, 'Greater Antilles': 2, 'Bahamas': 2, 'Eastern United States': 1, 'Ontario': 1, 'Windward Islands': 1, 'Nicaragua': 1, 'Honduras': 1, 'Antilles': 1, 'Colombia': 1, 'Cape Verde': 1, 'British Virgin Islands': 1, 'U.S. Virgin Islands': 1, 'Virgin Islands': 1, 'Puerto Rico': 1, 'Dominican Republic': 1, 'Turks and Caicos Islands': 1, 'United States Gulf Coast (especially Florida Panhandle)': 1}\n"
     ]
    }
   ],
   "source": [
    "# Counting Damaged Areas\n",
    "def count_affected_areas(hurricanes):\n",
    "    # Iterate through each hurricane and its affected areas, and count the number of times each area appears\n",
    "    # Store the count in a dictionary with the area name as the key\n",
    "    affected_areas_count = dict()\n",
    "    for cane in hurricanes:\n",
    "        for area in hurricanes[cane]['Areas Affected']:\n",
    "            if area not in affected_areas_count:\n",
    "                affected_areas_count[area] = 1\n",
    "            else:\n",
    "                affected_areas_count[area] += 1\n",
    "    return affected_areas_count\n",
    "\n",
    "\n",
    "# Call the function to count the affected areas across all hurricanes and store the result in a dictionary\n",
    "affected_areas_count = count_affected_areas(hurricanes)\n",
    "\n",
    "# Print the dictionary of affected areas and the number of hurricanes they were involved in\n",
    "print(affected_areas_count)"
   ]
  },
  {
   "cell_type": "code",
   "execution_count": 20,
   "id": "d3436993",
   "metadata": {},
   "outputs": [
    {
     "name": "stdout",
     "output_type": "stream",
     "text": [
      "The area affected by the most hurricanes is: Central America\n",
      "It was hit by 9 hurricanes.\n"
     ]
    }
   ],
   "source": [
    "# This function finds the area affected by the most hurricanes and the number of times it was hit\n",
    "def most_affected_area(affected_areas_count):\n",
    "    # Initialize variables to keep track of the most affected area and its count\n",
    "    max_area = 'Mexico'\n",
    "    max_area_count = 0\n",
    "\n",
    "    # Loop through all the affected areas to find the most affected area and its count\n",
    "    for area in affected_areas_count:\n",
    "        # If the count of hurricanes affecting the current area is higher than the previous maximum count,\n",
    "        # update the most affected area and its count\n",
    "        if affected_areas_count[area] > max_area_count:\n",
    "            max_area = area\n",
    "            max_area_count = affected_areas_count[area]\n",
    "    \n",
    "    # Return the most affected area and its count\n",
    "    return max_area, max_area_count\n",
    "\n",
    "# Call the most_affected_area function to find the most frequently affected area and the number of hurricanes involved\n",
    "max_area, max_area_count = most_affected_area(affected_areas_count)\n",
    "\n",
    "# Print the most affected area and its count\n",
    "print(\"The area affected by the most hurricanes is:\", max_area)\n",
    "print(\"It was hit by\", max_area_count, \"hurricanes.\") "
   ]
  },
  {
   "cell_type": "code",
   "execution_count": 19,
   "id": "b6684d82",
   "metadata": {},
   "outputs": [
    {
     "name": "stdout",
     "output_type": "stream",
     "text": [
      "Mitch 19325\n"
     ]
    }
   ],
   "source": [
    "# Function to find the hurricane that caused the greatest number of deaths and the number of deaths it caused.\n",
    "def highest_mortality(hurricanes):\n",
    "    # Initialize variables to store the highest mortality hurricane and its death toll.\n",
    "    max_mortality_cane = 'San Felipe II Okeechobee'\n",
    "    max_mortality = 0\n",
    "\n",
    "    # Loop through all the hurricanes in the input dictionary.\n",
    "    for cane in hurricanes:\n",
    "        # Check if the death toll of the current hurricane is higher than the previous maximum.\n",
    "        if hurricanes[cane]['Deaths'] > max_mortality:\n",
    "            # Update the maximum mortality hurricane and its death toll.\n",
    "            max_mortality_cane = cane\n",
    "            max_mortality = hurricanes[cane]['Deaths']\n",
    "\n",
    "    # Return the hurricane with the highest death toll and its death toll.\n",
    "    return max_mortality_cane, max_mortality\n",
    "\n",
    "\n",
    "# Call the highest_mortality() function with the input dictionary of hurricanes.\n",
    "max_mortality_cane, max_mortality = highest_mortality(hurricanes)\n",
    "\n",
    "# Print the hurricane with the highest death toll and its death toll.\n",
    "print(max_mortality_cane, max_mortality)"
   ]
  },
  {
   "cell_type": "code",
   "execution_count": 18,
   "id": "f973549c",
   "metadata": {},
   "outputs": [
    {
     "name": "stdout",
     "output_type": "stream",
     "text": [
      "[{'Name': 'Cuba I', 'Month': 'October', 'Year': 1924, 'Max Sustained Wind': 165, 'Areas Affected': ['Central America', 'Mexico', 'Cuba', 'Florida', 'The Bahamas'], 'Damage': 'Damages not recorded', 'Deaths': 90}, {'Name': 'Bahamas', 'Month': 'September', 'Year': 1932, 'Max Sustained Wind': 160, 'Areas Affected': ['The Bahamas', 'Northeastern United States'], 'Damage': 'Damages not recorded', 'Deaths': 16}, {'Name': 'Carol', 'Month': 'September', 'Year': 1953, 'Max Sustained Wind': 160, 'Areas Affected': ['Bermuda', 'New England', 'Atlantic Canada'], 'Damage': 2000000.0, 'Deaths': 5}, {'Name': 'Carla', 'Month': 'September', 'Year': 1961, 'Max Sustained Wind': 175, 'Areas Affected': ['Texas', 'Louisiana', 'Midwestern United States'], 'Damage': 326000000.0, 'Deaths': 43}, {'Name': 'Edith', 'Month': 'September', 'Year': 1971, 'Max Sustained Wind': 160, 'Areas Affected': ['The Caribbean', 'Central America', 'Mexico', 'United States Gulf Coast'], 'Damage': 25400000.0, 'Deaths': 37}, {'Name': 'Anita', 'Month': 'September', 'Year': 1977, 'Max Sustained Wind': 175, 'Areas Affected': ['Mexico'], 'Damage': 'Damages not recorded', 'Deaths': 11}, {'Name': 'Andrew', 'Month': 'August', 'Year': 1992, 'Max Sustained Wind': 175, 'Areas Affected': ['The Bahamas', 'Florida', 'United States Gulf Coast'], 'Damage': 26500000000.0, 'Deaths': 65}, {'Name': 'Isabel', 'Month': 'September', 'Year': 2003, 'Max Sustained Wind': 165, 'Areas Affected': ['Greater Antilles', 'Bahamas', 'Eastern United States', 'Ontario'], 'Damage': 5370000000.0, 'Deaths': 51}, {'Name': 'Emily', 'Month': 'July', 'Year': 2005, 'Max Sustained Wind': 160, 'Areas Affected': ['Windward Islands', 'Jamaica', 'Mexico', 'Texas'], 'Damage': 1010000000.0, 'Deaths': 17}, {'Name': 'Wilma', 'Month': 'October', 'Year': 2005, 'Max Sustained Wind': 185, 'Areas Affected': ['Greater Antilles', 'Central America', 'Florida'], 'Damage': 29400000000.0, 'Deaths': 87}, {'Name': 'Dean', 'Month': 'August', 'Year': 2007, 'Max Sustained Wind': 175, 'Areas Affected': ['The Caribbean', 'Central America'], 'Damage': 1760000000.0, 'Deaths': 45}, {'Name': 'Michael', 'Month': 'October', 'Year': 2018, 'Max Sustained Wind': 160, 'Areas Affected': ['Central America', 'United States Gulf Coast (especially Florida Panhandle)'], 'Damage': 25100000000.0, 'Deaths': 74}]\n"
     ]
    }
   ],
   "source": [
    "# Rating Hurricanes by Mortality\n",
    "\n",
    "# This function categorizes hurricanes based on their mortality rates and returns a dictionary\n",
    "def categorize_by_mortality(hurricanes):\n",
    "    # Define a dictionary to map mortality scale to number of deaths\n",
    "    mortality_scale = {0: 0, 1: 100, 2: 500, 3: 1000, 4: 10000}\n",
    "    # Define a dictionary to store hurricanes by mortality severity\n",
    "    hurricanes_by_mortality = {0: [], 1: [], 2: [], 3: [], 4: [], 5: []}\n",
    "    # Iterate over each hurricane in the input dictionary and categorize it based on its mortality rate\n",
    "    for cane in hurricanes:\n",
    "        num_deaths = hurricanes[cane]['Deaths']\n",
    "        if num_deaths == mortality_scale[0]:\n",
    "            hurricanes_by_mortality[0].append(hurricanes[cane])\n",
    "        elif num_deaths > mortality_scale[0] and num_deaths <= mortality_scale[1]:\n",
    "            hurricanes_by_mortality[1].append(hurricanes[cane])\n",
    "        elif num_deaths > mortality_scale[1] and num_deaths <= mortality_scale[2]:\n",
    "            hurricanes_by_mortality[2].append(hurricanes[cane])\n",
    "        elif num_deaths > mortality_scale[2] and num_deaths <= mortality_scale[3]:\n",
    "            hurricanes_by_mortality[3].append(hurricanes[cane])\n",
    "        elif num_deaths > mortality_scale[3] and num_deaths <= mortality_scale[4]:\n",
    "            hurricanes_by_mortality[4].append(hurricanes[cane])\n",
    "        elif num_deaths > mortality_scale[4]:\n",
    "            hurricanes_by_mortality[5].append(hurricanes[cane])\n",
    "    # Return the hurricanes categorized by mortality severity\n",
    "    return hurricanes_by_mortality\n",
    "\n",
    "# Call the function to categorize the input hurricanes based on their mortality rates\n",
    "hurricanes_by_mortality = categorize_by_mortality(hurricanes)\n",
    "# Print the hurricanes with a mortality rate of 1 (i.e., between 0 and 100 deaths)\n",
    "print(hurricanes_by_mortality[1])"
   ]
  },
  {
   "cell_type": "code",
   "execution_count": 17,
   "id": "96c16612",
   "metadata": {},
   "outputs": [
    {
     "name": "stdout",
     "output_type": "stream",
     "text": [
      "Katrina 125000000000.0\n"
     ]
    }
   ],
   "source": [
    "# Calculates the maximum damage caused by a hurricane\n",
    "def highest_damage(hurricanes):\n",
    "    # Initializes the highest damage-inducing hurricane and its total cost\n",
    "    max_damage_cane = 'Cuba I'\n",
    "    max_damage = 0\n",
    "    \n",
    "    # Iterates through each hurricane in the provided data\n",
    "    for cane in hurricanes:\n",
    "        # Skips the hurricane if its damage data is not available\n",
    "        if hurricanes[cane]['Damage'] == \"Damages not recorded\":\n",
    "            pass\n",
    "        # Updates the highest damage inducing hurricane and its total cost if a new maximum is found\n",
    "        elif hurricanes[cane]['Damage'] > max_damage:\n",
    "            max_damage_cane = cane\n",
    "            max_damage = hurricanes[cane]['Damage']\n",
    "    \n",
    "    # Returns the highest damage inducing hurricane and its total cost\n",
    "    return max_damage_cane, max_damage\n",
    "\n",
    "# Calls the highest_damage() function to find the highest damage inducing hurricane and its total cost\n",
    "max_damage_cane, max_damage = highest_damage(hurricanes)\n",
    "\n",
    "# Prints the highest damage inducing hurricane and its total cost\n",
    "print(max_damage_cane, max_damage)"
   ]
  },
  {
   "cell_type": "code",
   "execution_count": 16,
   "id": "c3fcb8e5",
   "metadata": {},
   "outputs": [
    {
     "name": "stdout",
     "output_type": "stream",
     "text": [
      "[{'Name': 'Andrew', 'Month': 'August', 'Year': 1992, 'Max Sustained Wind': 175, 'Areas Affected': ['The Bahamas', 'Florida', 'United States Gulf Coast'], 'Damage': 26500000000.0, 'Deaths': 65}, {'Name': 'Ivan', 'Month': 'September', 'Year': 2004, 'Max Sustained Wind': 165, 'Areas Affected': ['The Caribbean', 'Venezuela', 'United States Gulf Coast'], 'Damage': 23300000000.0, 'Deaths': 124}, {'Name': 'Rita', 'Month': 'September', 'Year': 2005, 'Max Sustained Wind': 180, 'Areas Affected': ['Cuba', 'United States Gulf Coast'], 'Damage': 12000000000.0, 'Deaths': 125}, {'Name': 'Wilma', 'Month': 'October', 'Year': 2005, 'Max Sustained Wind': 185, 'Areas Affected': ['Greater Antilles', 'Central America', 'Florida'], 'Damage': 29400000000.0, 'Deaths': 87}, {'Name': 'Matthew', 'Month': 'October', 'Year': 2016, 'Max Sustained Wind': 165, 'Areas Affected': ['Antilles', 'Venezuela', 'Colombia', 'United States East Coast', 'Atlantic Canada'], 'Damage': 15100000000.0, 'Deaths': 603}, {'Name': 'Michael', 'Month': 'October', 'Year': 2018, 'Max Sustained Wind': 160, 'Areas Affected': ['Central America', 'United States Gulf Coast (especially Florida Panhandle)'], 'Damage': 25100000000.0, 'Deaths': 74}]\n"
     ]
    }
   ],
   "source": [
    "# Lastly, I want to rate hurricanes according to how much damage they cause\n",
    "\n",
    "# Function that rates hurricanes on a damage scale\n",
    "def categorize_by_damage(hurricanes):\n",
    "    # Define damage scale based on total damage caused by a hurricane\n",
    "    damage_scale = {0: 0,      # No damage recorded\n",
    "                    1: 100000000,   # Minimal damage\n",
    "                    2: 1000000000,  # Moderate damage\n",
    "                    3: 10000000000, # Extensive damage\n",
    "                    4: 50000000000} # Catastrophic damage\n",
    "\n",
    "    # Create a new dictionary to categorize hurricanes by their damage severity\n",
    "    hurricanes_by_damage = {0:[], 1:[], 2:[], 3:[], 4:[], 5:[]}\n",
    "\n",
    "    # Iterate through each hurricane and categorize it based on its total damage\n",
    "    for cane in hurricanes:\n",
    "        total_damage = hurricanes[cane]['Damage']\n",
    "\n",
    "        # If damage is not recorded, add hurricane to category 0 (no damage recorded)\n",
    "        if total_damage == \"Damages not recorded\":\n",
    "            hurricanes_by_damage[0].append(hurricanes[cane])\n",
    "        # If damage is within range of category 0, add hurricane to category 0\n",
    "        elif total_damage == damage_scale[0]:\n",
    "            hurricanes_by_damage[0].append(hurricanes[cane])\n",
    "        # If damage is within range of category 1, add hurricane to category 1\n",
    "        elif total_damage > damage_scale[0] and total_damage <= damage_scale[1]:\n",
    "            hurricanes_by_damage[1].append(hurricanes[cane])\n",
    "        # If damage is within range of category 2, add hurricane to category 2\n",
    "        elif total_damage > damage_scale[1] and total_damage <= damage_scale[2]:\n",
    "            hurricanes_by_damage[2].append(hurricanes[cane])\n",
    "        # If damage is within range of category 3, add hurricane to category 3\n",
    "        elif total_damage > damage_scale[2] and total_damage <= damage_scale[3]:\n",
    "            hurricanes_by_damage[3].append(hurricanes[cane])\n",
    "        # If damage is within range of category 4, add hurricane to category 4\n",
    "        elif total_damage > damage_scale[3] and total_damage <= damage_scale[4]:\n",
    "            hurricanes_by_damage[4].append(hurricanes[cane])\n",
    "        # If damage is greater than the range of category 4, add hurricane to category 5 (catastrophic damage)\n",
    "        elif total_damage > damage_scale[4]:\n",
    "            hurricanes_by_damage[5].append(hurricanes[cane])\n",
    "    \n",
    "    # Return the dictionary of hurricanes categorized by their damage severity\n",
    "    return hurricanes_by_damage\n",
    "\n",
    "# Categorize hurricanes in a new dictionary with damage severity as the key\n",
    "hurricanes_by_damage = categorize_by_damage(hurricanes)\n",
    "\n",
    "# Print the hurricanes in category 4 (catastrophic damage)\n",
    "print(hurricanes_by_damage[4])"
   ]
  }
 ],
 "metadata": {
  "kernelspec": {
   "display_name": "Python 3 (ipykernel)",
   "language": "python",
   "name": "python3"
  },
  "language_info": {
   "codemirror_mode": {
    "name": "ipython",
    "version": 3
   },
   "file_extension": ".py",
   "mimetype": "text/x-python",
   "name": "python",
   "nbconvert_exporter": "python",
   "pygments_lexer": "ipython3",
   "version": "3.9.12"
  },
  "vscode": {
   "interpreter": {
    "hash": "b784193cf0f9970b27f3c12f21dbff8ed97e3cf923dc23fe210654173bc3fdd0"
   }
  }
 },
 "nbformat": 4,
 "nbformat_minor": 5
}
